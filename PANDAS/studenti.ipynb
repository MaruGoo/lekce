{
 "cells": [
  {
   "cell_type": "code",
   "execution_count": 3,
   "metadata": {},
   "outputs": [],
   "source": [
    "import pandas"
   ]
  },
  {
   "cell_type": "code",
   "execution_count": 4,
   "metadata": {},
   "outputs": [],
   "source": [
    "jmena = pandas.read_csv(\"jmena2.csv\")\n",
    "studenti_1 = pandas.read_csv(\"studenti1.csv\")\n",
    "studenti_2 = pandas.read_csv(\"studenti2.csv\")"
   ]
  },
  {
   "cell_type": "code",
   "execution_count": 5,
   "metadata": {},
   "outputs": [],
   "source": [
    "# Načti dva datové sety studentů do oddělených pandas DataFrame a pomocí funkce concat je spoj do jednoho setu.\n",
    "studenti = pandas.concat([studenti_1, studenti_2], ignore_index=True)"
   ]
  },
  {
   "cell_type": "code",
   "execution_count": 6,
   "metadata": {},
   "outputs": [
    {
     "data": {
      "text/plain": [
       "33"
      ]
     },
     "execution_count": 6,
     "metadata": {},
     "output_type": "execute_result"
    }
   ],
   "source": [
    "# Pokud studentovi chybí ročník, znamená to, že již nestuduje. Pokud mu chybí číslo skupiny, znamená to, že jde o dálkového studenta. Kolik studentů v datovém setu již nestuduje a kolik jsou dálkoví studenti?\n",
    "len(studenti[studenti[\"ročník\"].isna()])"
   ]
  },
  {
   "cell_type": "code",
   "execution_count": 7,
   "metadata": {},
   "outputs": [
    {
     "data": {
      "text/plain": [
       "27"
      ]
     },
     "execution_count": 7,
     "metadata": {},
     "output_type": "execute_result"
    }
   ],
   "source": [
    "len(studenti[studenti[\"kruh\"].isna()])"
   ]
  },
  {
   "cell_type": "code",
   "execution_count": 39,
   "metadata": {},
   "outputs": [
    {
     "data": {
      "text/html": [
       "<div>\n",
       "<style scoped>\n",
       "    .dataframe tbody tr th:only-of-type {\n",
       "        vertical-align: middle;\n",
       "    }\n",
       "\n",
       "    .dataframe tbody tr th {\n",
       "        vertical-align: top;\n",
       "    }\n",
       "\n",
       "    .dataframe thead th {\n",
       "        text-align: right;\n",
       "    }\n",
       "</style>\n",
       "<table border=\"1\" class=\"dataframe\">\n",
       "  <thead>\n",
       "    <tr style=\"text-align: right;\">\n",
       "      <th></th>\n",
       "      <th>jméno</th>\n",
       "      <th>příjmení</th>\n",
       "      <th>obor</th>\n",
       "      <th>ročník</th>\n",
       "      <th>kruh</th>\n",
       "      <th>prospěch</th>\n",
       "    </tr>\n",
       "  </thead>\n",
       "  <tbody>\n",
       "  </tbody>\n",
       "</table>\n",
       "</div>"
      ],
      "text/plain": [
       "Empty DataFrame\n",
       "Columns: [jméno, příjmení, obor, ročník, kruh, prospěch]\n",
       "Index: []"
      ]
     },
     "execution_count": 39,
     "metadata": {},
     "output_type": "execute_result"
    }
   ],
   "source": [
    "# Vyčisti data od studentů, kteří nestudují nebo studují jen dálkově. Nadále budeme pracovat pouze s prezenčními studenty.\n",
    "studenti = studenti.dropna(subset=[\"ročník\", \"kruh\"])\n",
    "# prezencni_studenti = studenti[(studenti[\"ročník\"].isna()) | (studenti[\"kruh\"].isna())]\n",
    "# prezencni_studenti\n",
    "# prezencni_studenti.shape"
   ]
  },
  {
   "cell_type": "code",
   "execution_count": 40,
   "metadata": {},
   "outputs": [
    {
     "data": {
      "text/plain": [
       "obor\n",
       "informatika a management    49\n",
       "počítačová grafika          33\n",
       "softwarové inženýrství      41\n",
       "správa IT systémů           38\n",
       "teoretická informatika      47\n",
       "webové inženýrství          46\n",
       "číslicová technika          33\n",
       "dtype: int64"
      ]
     },
     "execution_count": 40,
     "metadata": {},
     "output_type": "execute_result"
    }
   ],
   "source": [
    "studenti.groupby(\"obor\").size()"
   ]
  },
  {
   "cell_type": "code",
   "execution_count": 41,
   "metadata": {},
   "outputs": [
    {
     "data": {
      "text/plain": [
       "obor\n",
       "informatika a management    2.088980\n",
       "počítačová grafika          1.971515\n",
       "softwarové inženýrství      1.960976\n",
       "správa IT systémů           1.917632\n",
       "teoretická informatika      2.136809\n",
       "webové inženýrství          2.079130\n",
       "číslicová technika          2.047576\n",
       "Name: prospěch, dtype: float64"
      ]
     },
     "execution_count": 41,
     "metadata": {},
     "output_type": "execute_result"
    }
   ],
   "source": [
    "studenti.groupby(\"obor\")[\"prospěch\"].mean()"
   ]
  },
  {
   "cell_type": "code",
   "execution_count": 42,
   "metadata": {},
   "outputs": [
    {
     "data": {
      "text/html": [
       "<div>\n",
       "<style scoped>\n",
       "    .dataframe tbody tr th:only-of-type {\n",
       "        vertical-align: middle;\n",
       "    }\n",
       "\n",
       "    .dataframe tbody tr th {\n",
       "        vertical-align: top;\n",
       "    }\n",
       "\n",
       "    .dataframe thead th {\n",
       "        text-align: right;\n",
       "    }\n",
       "</style>\n",
       "<table border=\"1\" class=\"dataframe\">\n",
       "  <thead>\n",
       "    <tr style=\"text-align: right;\">\n",
       "      <th></th>\n",
       "      <th>jméno</th>\n",
       "      <th>příjmení</th>\n",
       "      <th>obor</th>\n",
       "      <th>ročník</th>\n",
       "      <th>kruh</th>\n",
       "      <th>prospěch</th>\n",
       "      <th>četnost</th>\n",
       "      <th>věk</th>\n",
       "      <th>pohlaví</th>\n",
       "      <th>svátek</th>\n",
       "      <th>původ</th>\n",
       "    </tr>\n",
       "  </thead>\n",
       "  <tbody>\n",
       "    <tr>\n",
       "      <th>0</th>\n",
       "      <td>Ludmila</td>\n",
       "      <td>Šindlerová</td>\n",
       "      <td>informatika a management</td>\n",
       "      <td>4.0</td>\n",
       "      <td>11.0</td>\n",
       "      <td>2.49</td>\n",
       "      <td>72750</td>\n",
       "      <td>65</td>\n",
       "      <td>ž</td>\n",
       "      <td>16.9</td>\n",
       "      <td>slovanský</td>\n",
       "    </tr>\n",
       "    <tr>\n",
       "      <th>1</th>\n",
       "      <td>Ludmila</td>\n",
       "      <td>Dvořáková</td>\n",
       "      <td>číslicová technika</td>\n",
       "      <td>3.0</td>\n",
       "      <td>3.0</td>\n",
       "      <td>2.32</td>\n",
       "      <td>72750</td>\n",
       "      <td>65</td>\n",
       "      <td>ž</td>\n",
       "      <td>16.9</td>\n",
       "      <td>slovanský</td>\n",
       "    </tr>\n",
       "    <tr>\n",
       "      <th>2</th>\n",
       "      <td>Ludmila</td>\n",
       "      <td>Sklářová</td>\n",
       "      <td>softwarové inženýrství</td>\n",
       "      <td>5.0</td>\n",
       "      <td>7.0</td>\n",
       "      <td>2.95</td>\n",
       "      <td>72750</td>\n",
       "      <td>65</td>\n",
       "      <td>ž</td>\n",
       "      <td>16.9</td>\n",
       "      <td>slovanský</td>\n",
       "    </tr>\n",
       "    <tr>\n",
       "      <th>3</th>\n",
       "      <td>Ludmila</td>\n",
       "      <td>Dorazilová</td>\n",
       "      <td>softwarové inženýrství</td>\n",
       "      <td>2.0</td>\n",
       "      <td>10.0</td>\n",
       "      <td>2.00</td>\n",
       "      <td>72750</td>\n",
       "      <td>65</td>\n",
       "      <td>ž</td>\n",
       "      <td>16.9</td>\n",
       "      <td>slovanský</td>\n",
       "    </tr>\n",
       "    <tr>\n",
       "      <th>4</th>\n",
       "      <td>Jan</td>\n",
       "      <td>Pekárek</td>\n",
       "      <td>softwarové inženýrství</td>\n",
       "      <td>1.0</td>\n",
       "      <td>7.0</td>\n",
       "      <td>1.05</td>\n",
       "      <td>293938</td>\n",
       "      <td>40</td>\n",
       "      <td>m</td>\n",
       "      <td>24.6. a 6.7</td>\n",
       "      <td>hebrejský</td>\n",
       "    </tr>\n",
       "    <tr>\n",
       "      <th>...</th>\n",
       "      <td>...</td>\n",
       "      <td>...</td>\n",
       "      <td>...</td>\n",
       "      <td>...</td>\n",
       "      <td>...</td>\n",
       "      <td>...</td>\n",
       "      <td>...</td>\n",
       "      <td>...</td>\n",
       "      <td>...</td>\n",
       "      <td>...</td>\n",
       "      <td>...</td>\n",
       "    </tr>\n",
       "    <tr>\n",
       "      <th>282</th>\n",
       "      <td>Ondřej</td>\n",
       "      <td>Požár</td>\n",
       "      <td>webové inženýrství</td>\n",
       "      <td>2.0</td>\n",
       "      <td>8.0</td>\n",
       "      <td>1.94</td>\n",
       "      <td>76225</td>\n",
       "      <td>22</td>\n",
       "      <td>m</td>\n",
       "      <td>30.11</td>\n",
       "      <td>řecký</td>\n",
       "    </tr>\n",
       "    <tr>\n",
       "      <th>283</th>\n",
       "      <td>Jaromír</td>\n",
       "      <td>Gabriel</td>\n",
       "      <td>počítačová grafika</td>\n",
       "      <td>3.0</td>\n",
       "      <td>8.0</td>\n",
       "      <td>1.38</td>\n",
       "      <td>30984</td>\n",
       "      <td>55</td>\n",
       "      <td>m</td>\n",
       "      <td>24.9</td>\n",
       "      <td>slovanský</td>\n",
       "    </tr>\n",
       "    <tr>\n",
       "      <th>284</th>\n",
       "      <td>Denisa</td>\n",
       "      <td>Bílková</td>\n",
       "      <td>teoretická informatika</td>\n",
       "      <td>5.0</td>\n",
       "      <td>5.0</td>\n",
       "      <td>1.03</td>\n",
       "      <td>26299</td>\n",
       "      <td>23</td>\n",
       "      <td>ž</td>\n",
       "      <td>11.9</td>\n",
       "      <td>řecký</td>\n",
       "    </tr>\n",
       "    <tr>\n",
       "      <th>285</th>\n",
       "      <td>Pavlína</td>\n",
       "      <td>Filová</td>\n",
       "      <td>číslicová technika</td>\n",
       "      <td>4.0</td>\n",
       "      <td>8.0</td>\n",
       "      <td>2.37</td>\n",
       "      <td>35863</td>\n",
       "      <td>37</td>\n",
       "      <td>ž</td>\n",
       "      <td>31.8</td>\n",
       "      <td>latinský</td>\n",
       "    </tr>\n",
       "    <tr>\n",
       "      <th>286</th>\n",
       "      <td>Klára</td>\n",
       "      <td>Valentová</td>\n",
       "      <td>správa IT systémů</td>\n",
       "      <td>1.0</td>\n",
       "      <td>11.0</td>\n",
       "      <td>1.10</td>\n",
       "      <td>39600</td>\n",
       "      <td>22</td>\n",
       "      <td>ž</td>\n",
       "      <td>12.8</td>\n",
       "      <td>latinský</td>\n",
       "    </tr>\n",
       "  </tbody>\n",
       "</table>\n",
       "<p>287 rows × 11 columns</p>\n",
       "</div>"
      ],
      "text/plain": [
       "       jméno    příjmení                      obor  ročník  kruh  prospěch  \\\n",
       "0    Ludmila  Šindlerová  informatika a management     4.0  11.0      2.49   \n",
       "1    Ludmila   Dvořáková        číslicová technika     3.0   3.0      2.32   \n",
       "2    Ludmila    Sklářová    softwarové inženýrství     5.0   7.0      2.95   \n",
       "3    Ludmila  Dorazilová    softwarové inženýrství     2.0  10.0      2.00   \n",
       "4        Jan     Pekárek    softwarové inženýrství     1.0   7.0      1.05   \n",
       "..       ...         ...                       ...     ...   ...       ...   \n",
       "282   Ondřej       Požár        webové inženýrství     2.0   8.0      1.94   \n",
       "283  Jaromír     Gabriel        počítačová grafika     3.0   8.0      1.38   \n",
       "284   Denisa     Bílková    teoretická informatika     5.0   5.0      1.03   \n",
       "285  Pavlína      Filová        číslicová technika     4.0   8.0      2.37   \n",
       "286    Klára   Valentová         správa IT systémů     1.0  11.0      1.10   \n",
       "\n",
       "     četnost  věk pohlaví       svátek      původ  \n",
       "0      72750   65       ž         16.9  slovanský  \n",
       "1      72750   65       ž         16.9  slovanský  \n",
       "2      72750   65       ž         16.9  slovanský  \n",
       "3      72750   65       ž         16.9  slovanský  \n",
       "4     293938   40       m  24.6. a 6.7  hebrejský  \n",
       "..       ...  ...     ...          ...        ...  \n",
       "282    76225   22       m        30.11      řecký  \n",
       "283    30984   55       m         24.9  slovanský  \n",
       "284    26299   23       ž         11.9      řecký  \n",
       "285    35863   37       ž         31.8   latinský  \n",
       "286    39600   22       ž         12.8   latinský  \n",
       "\n",
       "[287 rows x 11 columns]"
      ]
     },
     "execution_count": 42,
     "metadata": {},
     "output_type": "execute_result"
    }
   ],
   "source": [
    "pohlavi = pandas.read_csv(\"jmena2.csv\")\n",
    "studenti_pohlavi = pandas.merge(studenti, pohlavi, on=\"jméno\")\n",
    "studenti_pohlavi"
   ]
  },
  {
   "cell_type": "code",
   "execution_count": 43,
   "metadata": {},
   "outputs": [
    {
     "data": {
      "text/plain": [
       "pohlaví\n",
       "m    117\n",
       "ž    170\n",
       "dtype: int64"
      ]
     },
     "execution_count": 43,
     "metadata": {},
     "output_type": "execute_result"
    }
   ],
   "source": [
    "studenti_pohlavi.groupby(\"pohlaví\").size()"
   ]
  }
 ],
 "metadata": {
  "kernelspec": {
   "display_name": "Python 3",
   "language": "python",
   "name": "python3"
  },
  "language_info": {
   "codemirror_mode": {
    "name": "ipython",
    "version": 3
   },
   "file_extension": ".py",
   "mimetype": "text/x-python",
   "name": "python",
   "nbconvert_exporter": "python",
   "pygments_lexer": "ipython3",
   "version": "3.9.10"
  },
  "orig_nbformat": 4
 },
 "nbformat": 4,
 "nbformat_minor": 2
}
