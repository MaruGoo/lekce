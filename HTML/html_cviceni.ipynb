{
 "cells": [
  {
   "attachments": {},
   "cell_type": "markdown",
   "metadata": {},
   "source": [
    "https://kodim.cz/kurzy/python-data-1/ziskavani-dat/webscraping/webscraping\n",
    "1 Scraping DHMO"
   ]
  },
  {
   "cell_type": "code",
   "execution_count": 3,
   "metadata": {},
   "outputs": [],
   "source": [
    "from requests_html import HTML\n",
    "from requests_html import HTMLSession\n",
    "session = HTMLSession()\n",
    "stranka = session.get('https://apps.kodim.cz/python-data/dhmo')\n"
   ]
  },
  {
   "cell_type": "code",
   "execution_count": 7,
   "metadata": {},
   "outputs": [
    {
     "name": "stdout",
     "output_type": "stream",
     "text": [
      "Strašák DHMO\n",
      "Další fakta\n",
      "Petice proti DHMO\n",
      "Odkazy\n"
     ]
    }
   ],
   "source": [
    "# Nechť program vypíše na výstup nadpisy všech sekcí (značka h2).\n",
    "stranka.html.find('h2')\n",
    "\n",
    "for nadpis in stranka.html.find('h2'):\n",
    "    print(nadpis.text)"
   ]
  },
  {
   "cell_type": "code",
   "execution_count": 8,
   "metadata": {},
   "outputs": [
    {
     "name": "stdout",
     "output_type": "stream",
     "text": [
      "http://www.dhmo.org/\n",
      "http://www.matthew.at/dhm.pdf\n",
      "http://www.snopes.com/science/dhmo.asp\n"
     ]
    }
   ],
   "source": [
    "# Nechť program vypíše na výstup cesty všech odkazů na stránce (značka a, atribut href).\n",
    "for odkaz in stranka.html.find('a'):\n",
    "    print(odkaz.attrs[\"href\"])"
   ]
  },
  {
   "cell_type": "code",
   "execution_count": 9,
   "metadata": {},
   "outputs": [
    {
     "name": "stdout",
     "output_type": "stream",
     "text": [
      "img/dhmo.jpg\n",
      "img/dhmo-ban.png\n"
     ]
    }
   ],
   "source": [
    "# Nechť program vypíše na výstup cesty ke všem obrázkům na stránce (značka img, atribut src). \n",
    "for obrazek in stranka.html.find('img'):\n",
    "    print(obrazek.attrs[\"src\"])\n"
   ]
  },
  {
   "attachments": {},
   "cell_type": "markdown",
   "metadata": {},
   "source": [
    "https://kodim.cz/kurzy/python-data-1/ziskavani-dat/webscraping/webscraping\n",
    "2 Scraping Kodim.cz"
   ]
  },
  {
   "cell_type": "code",
   "execution_count": 10,
   "metadata": {},
   "outputs": [],
   "source": [
    "from requests_html import HTML\n",
    "from requests_html import HTMLSession\n",
    "session = HTMLSession()\n",
    "stranka = session.get('https://kodim.cz/kurzy/uvod-do-progr-1/prvni-krucky/vstup-vystup/excs')"
   ]
  },
  {
   "cell_type": "code",
   "execution_count": 16,
   "metadata": {},
   "outputs": [
    {
     "name": "stdout",
     "output_type": "stream",
     "text": [
      "Jednoduchý výstup\n",
      "Jednoduchý vstup\n",
      "Zakázka pro divadlo\n",
      "Házení kostkami\n",
      "Generátor čísel\n"
     ]
    }
   ],
   "source": [
    "# Napište program, který vypíše na výstup všechna cvičení z lekce Vstup a výstup spolu s jejich obtížností.\n",
    "stranka.html.find('h3')\n",
    "\n",
    "for nadpis in stranka.html.find('h3'):\n",
    "    print(nadpis.text)"
   ]
  }
 ],
 "metadata": {
  "kernelspec": {
   "display_name": "Python 3",
   "language": "python",
   "name": "python3"
  },
  "language_info": {
   "codemirror_mode": {
    "name": "ipython",
    "version": 3
   },
   "file_extension": ".py",
   "mimetype": "text/x-python",
   "name": "python",
   "nbconvert_exporter": "python",
   "pygments_lexer": "ipython3",
   "version": "3.9.10"
  },
  "orig_nbformat": 4
 },
 "nbformat": 4,
 "nbformat_minor": 2
}
